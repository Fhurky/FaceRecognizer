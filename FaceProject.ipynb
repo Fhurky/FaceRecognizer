{
 "cells": [
  {
   "cell_type": "code",
   "execution_count": 1,
   "id": "50dfde96-17f2-4ad9-8e5a-4ef1fb03417c",
   "metadata": {},
   "outputs": [],
   "source": [
    "import cv2\n",
    "import os\n",
    "import random\n",
    "import numpy as np\n",
    "import matplotlib.pyplot as plt"
   ]
  },
  {
   "cell_type": "code",
   "execution_count": 2,
   "id": "9484e6fd-da1b-4be6-9a42-f00049b97b61",
   "metadata": {},
   "outputs": [],
   "source": [
    "# import tensorflow dependencies\n",
    "from tensorflow.keras.models import Model\n",
    "from tensorflow.keras.layers import Layer, Conv2D, Dense, MaxPooling2D, Input, Flatten\n",
    "import tensorflow as tf"
   ]
  },
  {
   "cell_type": "code",
   "execution_count": 3,
   "id": "683b01c9-6ad0-45b4-a01c-8cd2587fc042",
   "metadata": {},
   "outputs": [],
   "source": [
    "# Avoid OOM errors by seetting GPU Memory Consumption Growth\n",
    "gpus = tf.config.experimental.list_physical_devices('GPU') # All GPUs\n",
    "for gpu in gpus:\n",
    "    tf.config.experimental.set_memory_growth(gpu, True)"
   ]
  },
  {
   "cell_type": "code",
   "execution_count": null,
   "id": "4ab3160f-2b11-484d-bbe0-16620156b739",
   "metadata": {},
   "outputs": [],
   "source": [
    "# Setup paths and Make directories\n",
    "POS_PATH = os.path.join('data','positive')\n",
    "NEG_PATH = os.path.join('data','negative')\n",
    "ANC_PATH = os.path.join('data','anchor')\n",
    "os.makedirs(POS_PATH)\n",
    "os.makedirs(NEG_PATH)\n",
    "os.makedirs(ANC_PATH)"
   ]
  },
  {
   "cell_type": "code",
   "execution_count": 12,
   "id": "e6b6b3b3-f708-46d7-aaf7-29cd231423d3",
   "metadata": {},
   "outputs": [],
   "source": [
    "!tar -xf lfw.tgz"
   ]
  },
  {
   "cell_type": "code",
   "execution_count": 16,
   "id": "813f84c9-ebe1-4e10-850e-b1225105fa37",
   "metadata": {},
   "outputs": [],
   "source": [
    "# Move images to negative repo\n",
    "for directory in os.listdir('lfw'):\n",
    "    for file in os.listdir(os.path.join('lfw',directory)):\n",
    "        EX_PATH = os.path.join('lfw', directory, file)\n",
    "        NEW_PATH = os.path.join(NEG_PATH, file)\n",
    "        os.replace(EX_PATH, NEW_PATH)"
   ]
  },
  {
   "cell_type": "code",
   "execution_count": 39,
   "id": "a98a90ea-18bd-487c-8c34-062c847d73f3",
   "metadata": {},
   "outputs": [],
   "source": [
    "import uuid"
   ]
  },
  {
   "cell_type": "code",
   "execution_count": 44,
   "id": "a5122b74-f99d-49aa-8430-537a360978ad",
   "metadata": {},
   "outputs": [],
   "source": [
    "cap = cv2.VideoCapture(0)\n",
    "while cap.isOpened():\n",
    "    ret, frame = cap.read()\n",
    "\n",
    "    # to 250x 250\n",
    "    frame = frame[120:120+250,200:200+250,:]\n",
    "\n",
    "    # Collect anchors\n",
    "    if cv2.waitKey(1) & 0XFF == ord('a'):\n",
    "        # Create unique file path\n",
    "        imgname = os.path.join(ANC_PATH, '{}.jpg'.format(uuid.uuid1()))\n",
    "        cv2.imwrite(imgname, frame)\n",
    "        \n",
    "    # Collect positives\n",
    "    if cv2.waitKey(1) & 0XFF == ord('p'):\n",
    "        # Create unique file path\n",
    "        imgname = os.path.join(POS_PATH, '{}.jpg'.format(uuid.uuid1()))\n",
    "        cv2.imwrite(imgname, frame)\n",
    "        \n",
    "    #show image on to the screen\n",
    "    cv2.imshow('Camera', frame)\n",
    "    \n",
    "    if cv2.waitKey(1) & 0XFF == ord('q'):\n",
    "        break\n",
    "cap.release()\n",
    "cv2.destroyAllWindows()"
   ]
  },
  {
   "cell_type": "code",
   "execution_count": 48,
   "id": "e61b3142-c9c1-4654-a0d2-59738c4d08b4",
   "metadata": {},
   "outputs": [],
   "source": [
    "anchor = tf.data.Dataset.list_files(ANC_PATH+'\\*.jpg').take(400)\n",
    "positive = tf.data.Dataset.list_files(POS_PATH+'\\*.jpg').take(400)\n",
    "negative = tf.data.Dataset.list_files(NEG_PATH+'\\*.jpg').take(400)"
   ]
  },
  {
   "cell_type": "code",
   "execution_count": 56,
   "id": "dd1f843f-fd98-4ac1-a9f3-63e5aeab6494",
   "metadata": {},
   "outputs": [
    {
     "data": {
      "text/plain": [
       "b'data\\\\anchor\\\\1101d7af-6d48-11ef-93b9-089798a32039.jpg'"
      ]
     },
     "execution_count": 56,
     "metadata": {},
     "output_type": "execute_result"
    }
   ],
   "source": [
    "dir_test = anchor.as_numpy_iterator()\n",
    "dir_test.next()"
   ]
  },
  {
   "cell_type": "code",
   "execution_count": 53,
   "id": "f564783a-0f70-4f2c-b5a6-de6abe574968",
   "metadata": {},
   "outputs": [],
   "source": [
    "def preprogress(file_path):\n",
    "    byte_img = tf.io.read_file(file_path)\n",
    "    img = tf.io.decode_jpeg(byte_img)\n",
    "    img = tf.image.resize(img, (100, 100))\n",
    "    img = img / 255.0\n",
    "    return img"
   ]
  },
  {
   "cell_type": "code",
   "execution_count": 58,
   "id": "899475a2-06ee-41ba-8d1d-e47a311a50c7",
   "metadata": {},
   "outputs": [],
   "source": [
    "img = preprogress('data\\\\anchor\\\\1101d7af-6d48-11ef-93b9-089798a32039.jpg')"
   ]
  },
  {
   "cell_type": "code",
   "execution_count": null,
   "id": "57d2411c-62b9-4c19-a953-faef16f4ac2d",
   "metadata": {},
   "outputs": [],
   "source": [
    "plt.imshow(img)"
   ]
  },
  {
   "cell_type": "code",
   "execution_count": null,
   "id": "1b7c5256-c054-4e3e-8356-779f385a0fb2",
   "metadata": {},
   "outputs": [],
   "source": [
    "dataset.map(preprogress)"
   ]
  },
  {
   "cell_type": "code",
   "execution_count": 63,
   "id": "a8259539-578e-4c11-b486-ede5466c060a",
   "metadata": {},
   "outputs": [],
   "source": [
    "positives = tf.data.Dataset.zip((anchor, positive, tf.data.Dataset.from_tensor_slices(tf.ones(len(anchor)))))\n",
    "negatives = tf.data.Dataset.zip((anchor, negative, tf.data.Dataset.from_tensor_slices(tf.zeros(len(anchor)))))\n",
    "data = positives.concatenate(negatives)"
   ]
  },
  {
   "cell_type": "code",
   "execution_count": null,
   "id": "15c80ec8-805b-4b14-baa7-b3e590ca0dc3",
   "metadata": {},
   "outputs": [],
   "source": []
  }
 ],
 "metadata": {
  "kernelspec": {
   "display_name": "Python 3 (ipykernel)",
   "language": "python",
   "name": "python3"
  },
  "language_info": {
   "codemirror_mode": {
    "name": "ipython",
    "version": 3
   },
   "file_extension": ".py",
   "mimetype": "text/x-python",
   "name": "python",
   "nbconvert_exporter": "python",
   "pygments_lexer": "ipython3",
   "version": "3.9.13"
  }
 },
 "nbformat": 4,
 "nbformat_minor": 5
}
